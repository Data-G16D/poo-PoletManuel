{
  "nbformat": 4,
  "nbformat_minor": 0,
  "metadata": {
    "colab": {
      "name": "G16-Challenge_POO.ipynb",
      "provenance": []
    },
    "kernelspec": {
      "name": "python3",
      "display_name": "Python 3"
    },
    "language_info": {
      "name": "python"
    }
  },
  "cells": [
    {
      "cell_type": "markdown",
      "source": [
        "##Ejercicio 1\n",
        "Realizar un programa que conste de una clase llamada Alumno que tenga como atributos el nombre y la nota del alumno. Definir los métodos para inicializar sus atributos, imprimirlos y mostrar un mensaje con el resultado de la nota y si ha aprobado o no.\n"
      ],
      "metadata": {
        "id": "4EFGoEpOl5J9"
      }
    },
    {
      "cell_type": "code",
      "source": [
        "class Alumno():\n",
        "  def __init__(self, nombre, nota):\n",
        "    self.nombre = nombre\n",
        "    self.nota = nota\n",
        "Estudiante = Alumno('Polet', 9)\n",
        "if Estudiante.nota >=6:\n",
        "  print(\"El(La) Alumno(a) \" + Estudiante.nombre + \" tiene una calificación de \" + str(Estudiante.nota) + \" , por lo tanto, está aprobado(a).\")\n",
        "else:\n",
        "  print(\"El(La) Alumno(a) \" + Estudiante.nombre + \" tiene una calificación de \" + str(Estudiante.nota) + \" , por lo tanto, no está aprobado(a).\")\n",
        "\n",
        "\n"
      ],
      "metadata": {
        "id": "P9ullKnYnFfF",
        "colab": {
          "base_uri": "https://localhost:8080/"
        },
        "outputId": "8a4a9d6e-4259-4a68-99f8-b2100dce4802"
      },
      "execution_count": null,
      "outputs": [
        {
          "output_type": "stream",
          "name": "stdout",
          "text": [
            "El(La) Alumno(a) Polet tiene una calificación de 9 , por lo tanto, está aprobado(a).\n"
          ]
        }
      ]
    },
    {
      "cell_type": "markdown",
      "source": [
        "##Ejercicio 2\n",
        "Realizar un programa que tenga una clase Persona con las siguientes características. La clase tendrá como atributos el nombre y la edad de una persona. Implementar los métodos necesarios para inicializar los atributos, mostrar los datos e indicar si la persona es mayor de edad o no.\n"
      ],
      "metadata": {
        "id": "b_bGLJVvmDb5"
      }
    },
    {
      "cell_type": "code",
      "source": [
        "class Persona():\n",
        "  def __init__(self, nombre, edad):\n",
        "    self.nombre = nombre\n",
        "    self.edad = edad\n",
        "mayoria_de_edad = Persona('Polet', 22)\n",
        "if mayoria_de_edad.edad >=18:\n",
        "  print(\"El(La) ciudadano(a) \" + mayoria_de_edad.nombre + \" tiene \" + str(mayoria_de_edad.edad) + \" años, por lo tanto, es mayor de edad.\")\n",
        "else:\n",
        "  print(\"El(La) ciudadano(a) \" + mayoria_de_edad.nombre + \" tiene \" + str(mayoria_de_edad.edad) + \" años, por lo tanto, es menor de edad.\")"
      ],
      "metadata": {
        "id": "t_Kbaj2EnF9N",
        "colab": {
          "base_uri": "https://localhost:8080/"
        },
        "outputId": "674f6c62-1806-40d2-dfcc-42d597906ee9"
      },
      "execution_count": null,
      "outputs": [
        {
          "output_type": "stream",
          "name": "stdout",
          "text": [
            "El(La) ciudadano(a) Polet tiene 22 años, por lo tanto, es mayor de edad\n"
          ]
        }
      ]
    },
    {
      "cell_type": "markdown",
      "source": [
        "##Ejercicio 3\n",
        "Desarrollar un programa que cargue los datos de un triángulo. Implementar una clase con los métodos para inicializar los atributos, imprimir el valor del lado con un tamaño mayor y  el tipo de triángulo que es (equilátero, isósceles o escaleno).\n"
      ],
      "metadata": {
        "id": "Esf21Be0mTBn"
      }
    },
    {
      "cell_type": "code",
      "source": [
        "class Triangulo():\n",
        "  def __init__(self, l1, l2, l3):\n",
        "    self.l1 = l1\n",
        "    self.l2 = l2\n",
        "    self.l3 = l3\n",
        "Lados = Triangulo(2, 10, 8)\n",
        "Lista_lados = [Lados.l1, Lados.l2, Lados.l3]\n",
        "if Lados.l1 == Lados.l2 == Lados.l3:\n",
        "  max_lados = max(Lista_lados[:])\n",
        "  print(\"El triangulo es de tipo EQUILATERO y sus lados miden \" + str(Lados.l1))\n",
        "if Lados.l1 != Lados.l2 and Lados.l1 != Lados.l3 and Lados.l2 !=Lados.l3:\n",
        "  max_lados = max(Lados.l1, Lados.l2, Lados.l1)\n",
        "  print(\"El triangulo es de tipo ESCALENO y su lado mayor vale \" + str(max_lados))\n",
        "if Lados.l1 == Lados.l2 and Lados.l1 !=Lados.l3 or Lados.l2 ==Lados.l3 and Lados.l1 !=Lados.l2 or Lados.l1 ==Lados.l3 and Lados.l1 !=Lados.l2 :\n",
        "  max_lados = max(Lados.l1, Lados.l2, Lados.l1)\n",
        "  print(\"El triangulo es de tipo ISÓSCELES y su lado mayor vale \" + str(max_lados))\n"
      ],
      "metadata": {
        "id": "sPqi1jqCnGfD",
        "colab": {
          "base_uri": "https://localhost:8080/"
        },
        "outputId": "60c43a1d-9038-46fd-e157-11d2f14c10f0"
      },
      "execution_count": null,
      "outputs": [
        {
          "output_type": "stream",
          "name": "stdout",
          "text": [
            "El triangulo es de tipo ESCALENO y su lado mayor vale 10\n"
          ]
        }
      ]
    },
    {
      "cell_type": "markdown",
      "source": [
        "##Ejercicio 4\n",
        "Realizar un programa en el cual se declaren dos valores enteros por teclado utilizando el método __init__. Calcular después la suma, resta, multiplicación y división. Utilizar un método para cada una e imprimir los resultados obtenidos. Llamar a la clase Calculadora."
      ],
      "metadata": {
        "id": "FuDVAwyLmXM_"
      }
    },
    {
      "cell_type": "code",
      "source": [
        "class Calculadora():\n",
        "  def __init__(self, a, b):\n",
        "    self.a = a\n",
        "    self.b = b\n",
        "  \n",
        "Números = Calculadora(3,5)\n",
        "\n",
        "Suma = Números.a + Números.b\n",
        "Resta = Números.a - Números.b\n",
        "Multiplicación = Números.a * Números.b\n",
        "División = Números.a / Números.b\n",
        "\n",
        "print(\"Suma \"+ str(Suma), \"Resta \" + str(Resta), \"Multiplicación \"+ str(Multiplicación), \"División \" + str(División))\n"
      ],
      "metadata": {
        "id": "VnFcFidTnG-O",
        "colab": {
          "base_uri": "https://localhost:8080/"
        },
        "outputId": "361dd237-a712-43c9-e655-97d1a26678c9"
      },
      "execution_count": null,
      "outputs": [
        {
          "output_type": "stream",
          "name": "stdout",
          "text": [
            "Suma 8 Resta -2 Multiplicación 15 División 0.6\n"
          ]
        }
      ]
    },
    {
      "cell_type": "markdown",
      "source": [
        "##Ejercicio 5\n",
        "Realizar una clase que administre una agenda. Se debe almacenar para cada contacto el nombre, el teléfono y el email. Además deberá mostrar un menú con las siguientes opciones\n",
        "\n",
        "\n",
        "\n",
        "*   Añadir contacto\n",
        "*   Lista de contactos\n",
        "*   Buscar contacto\n",
        "*   Editar contacto\n",
        "*   Cerrar agenda"
      ],
      "metadata": {
        "id": "NmarrIA6mdo5"
      }
    },
    {
      "cell_type": "code",
      "source": [
        "class Agenda():\n",
        " def __init__(self, nombre, telefono, email): \n",
        "   self.nombre = nombre\n",
        "   self.telefono = telefono\n",
        "   self.email = email\n",
        "\n",
        "Persona1 = Agenda(\"Polet\", 931748, \"poletmanuel@hotmail.com\")\n",
        "Persona2 = Agenda(\"Emma\", 5439844, \"Emma@hotmail.com\")\n",
        "\n",
        "def __init__(self):\n",
        "  self.lista = []\n",
        "\n",
        "def Inicio(self):\n",
        "  agenda = open(\"a.txt\", \"a\")\n",
        "  agenda.close()\n",
        "\n",
        "agenda = Agenda()\n",
        "agenda.Inicio()\n",
        "\n",
        "while True:\n",
        "  print(\"01 - Añadir contacto\")\n",
        "  print(\"02 - Lista de contacto\")\n",
        "  print(\"03 - Buscar contacto\")\n",
        "  print(\"04 - Editar contacto\")\n",
        "  print(\"05 - Cerrar agenda\")\n",
        "try:\n",
        "  Opción = int (input (\"Elige una opción: \"))\n",
        "except:\n",
        "  print(\"Acción inválida, intente otra vez\")\n",
        "  input()\n",
        "  continue\n",
        "\n"
      ],
      "metadata": {
        "id": "hvhudvVInHpR"
      },
      "execution_count": null,
      "outputs": []
    },
    {
      "cell_type": "markdown",
      "source": [
        "##Ejercicio 6\n",
        "En un banco tienen clientes que pueden hacer depósitos y extracciones de dinero. El banco requiere también al final del día calcular la cantidad de dinero que se ha depositado.\n",
        "\n",
        "Se deberán crear dos clases, la clase cliente y la clase banco. La clase cliente tendrá los atributos nombre y cantidad y los métodos __init__, depositar, extraer, mostrar_total.\n",
        "\n",
        "La clase banco tendrá como atributos 3 objetos de la clase cliente y los métodos __init__, operar y deposito_total."
      ],
      "metadata": {
        "id": "pIFlDlAnmyyh"
      }
    },
    {
      "cell_type": "code",
      "source": [
        "class Cliente():\n",
        "  def __init__(self, nombre, cantidad, depositar, extraer, mostrar_total): \n",
        "\n",
        "                class Banco():\n",
        "                  def __init__(self, operar, deposito_total):"
      ],
      "metadata": {
        "id": "7gjXBfvCnIQJ",
        "colab": {
          "base_uri": "https://localhost:8080/",
          "height": 131
        },
        "outputId": "8e38df29-1cb4-44f0-a6da-4d2c87022fdb"
      },
      "execution_count": null,
      "outputs": [
        {
          "output_type": "error",
          "ename": "SyntaxError",
          "evalue": "ignored",
          "traceback": [
            "\u001b[0;36m  File \u001b[0;32m\"<ipython-input-25-01825dff298f>\"\u001b[0;36m, line \u001b[0;32m5\u001b[0m\n\u001b[0;31m    def __init__(self, operar, deposito_total):\u001b[0m\n\u001b[0m                                               ^\u001b[0m\n\u001b[0;31mSyntaxError\u001b[0m\u001b[0;31m:\u001b[0m unexpected EOF while parsing\n"
          ]
        }
      ]
    },
    {
      "cell_type": "markdown",
      "source": [
        "##Ejercicio 7\n",
        "Desarrollar un programa que conste de una clase padre Cuenta y dos subclases PlazoFijo y CajaAhorro. Definir los atributos titular y cantidad y un método para imprimir los datos en la clase Cuenta. La clase CajaAhorro tendrá un método para heredar los datos y uno para mostrar la información.\n",
        "\n",
        "La clase PlazoFijo tendrá dos atributos propios, plazo e interés. Tendrá un método para obtener el importe del interés (cantidad*interés/100) y otro método para mostrar la información, datos del titular plazo, interés y total de interés.\n",
        "\n",
        "Crear al menos un objeto de cada subclase.\n",
        "\n"
      ],
      "metadata": {
        "id": "B7ZTRLdum2NG"
      }
    },
    {
      "cell_type": "code",
      "source": [
        ":c"
      ],
      "metadata": {
        "id": "F2wvhFNYnI2Z"
      },
      "execution_count": null,
      "outputs": []
    }
  ]
}